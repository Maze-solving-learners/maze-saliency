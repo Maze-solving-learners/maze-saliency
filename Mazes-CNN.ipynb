{
 "cells": [
  {
   "cell_type": "markdown",
   "metadata": {
    "collapsed": true
   },
   "source": [
    "# Computing saliency masks on mazes with PAIR-Saliency\n",
    "\n",
    "This notebook demonstrates a number of saliency mask techniques, augmented with the `SmoothGrad` technique, using the Inception V3 convolutional neural network. The intention of this notebook is to have as few dependencies as possible to show how to compute masks.\n",
    "\n",
    "This notebook shows the following techniques, alongside with the `SmoothGrad` augmentation:\n",
    "\n",
    "*   Vanilla Gradients\n",
    "    ([paper](https://scholar.google.com/scholar?q=Visualizing+higher-layer+features+of+a+deep+network&btnG=&hl=en&as_sdt=0%2C22),\n",
    "    [paper](https://arxiv.org/abs/1312.6034))\n",
    "*   Guided Backpropogation ([paper](https://arxiv.org/abs/1412.6806))\n",
    "*   Integrated Gradients ([paper](https://arxiv.org/abs/1703.01365))\n",
    "*   Occlusion\n"
   ]
  },
  {
   "cell_type": "code",
   "execution_count": 1,
   "metadata": {},
   "outputs": [
    {
     "name": "stderr",
     "output_type": "stream",
     "text": [
      "Using TensorFlow backend.\n"
     ]
    }
   ],
   "source": [
    "# Boilerplate imports.\n",
    "import numpy as np\n",
    "import PIL.Image\n",
    "from PIL import ImageDraw\n",
    "from matplotlib import pylab as P\n",
    "import random\n",
    "import os\n",
    "from keras.utils import to_categorical\n",
    "\n",
    "%matplotlib inline"
   ]
  },
  {
   "cell_type": "markdown",
   "metadata": {},
   "source": [
    "### Utility methods"
   ]
  },
  {
   "cell_type": "code",
   "execution_count": 2,
   "metadata": {},
   "outputs": [],
   "source": [
    "# Boilerplate methods.\n",
    "def ShowImage(im, title='', ax=None):\n",
    "  if ax is None:\n",
    "    P.figure()\n",
    "  P.axis('off')\n",
    "  im = ((im + 1) * 127.5).astype(np.uint8)\n",
    "  P.imshow(im)\n",
    "  P.title(title)\n",
    "\n",
    "def ShowGrayscaleImage(im, title='', ax=None):\n",
    "  if ax is None:\n",
    "    P.figure()\n",
    "  P.axis('off')\n",
    "\n",
    "  P.imshow(im, cmap=P.cm.gray, vmin=0, vmax=1)\n",
    "  P.title(title)\n",
    "\n",
    "def resize(img, size):\n",
    "  im = img.resize((size, size))\n",
    "  im = np.asarray(im)[:, :, :3]\n",
    "  return im / 127.5 - 1.0\n",
    "\n",
    "def drawPath(img, list_of_points, color, visuals=True):\n",
    "    '''mark original maze with path or with salient points'''\n",
    "    maze_original_edited = np.copy(img)\n",
    "    for i, point in enumerate(list_of_points):\n",
    "        x,y = point\n",
    "        maze_original_edited[x,y] = color \n",
    "    if visuals:\n",
    "        ShowImage(maze_original_edited)\n",
    "    return maze_original_edited\n",
    " "
   ]
  },
  {
   "cell_type": "markdown",
   "metadata": {},
   "source": [
    "### Maze generator code\n",
    "Run the following cell to generate a new bmp of a new cell 32x32 in size."
   ]
  },
  {
   "cell_type": "code",
   "execution_count": 15,
   "metadata": {},
   "outputs": [
    {
     "data": {
      "text/plain": [
       "<matplotlib.image.AxesImage at 0x19e29176668>"
      ]
     },
     "execution_count": 15,
     "metadata": {},
     "output_type": "execute_result"
    },
    {
     "data": {
      "image/png": "[encoded data removed]",
      "text/plain": [
       "<Figure size 432x288 with 1 Axes>"
      ]
     },
     "metadata": {
      "needs_background": "light"
     },
     "output_type": "display_data"
    }
   ],
   "source": [
    "def update_pos(direct, x, y):\n",
    "    if direct == 0:\n",
    "        return (x+1,y)\n",
    "    elif direct == 1:\n",
    "        return (x, y+1)\n",
    "    elif direct == 2:\n",
    "        return (x-1, y)\n",
    "    else:\n",
    "        return (x, y - 1)\n",
    "\n",
    "\n",
    "def carve(maze, x, y, height, width):\n",
    "    direction = random.randint(0,4)\n",
    "    count = 0\n",
    "    while count < 4:\n",
    "        (x1, y1) = update_pos(direction, x, y)\n",
    "        (x2, y2) = update_pos(direction, x1, y1)\n",
    "        if x2 > 0 and x2 < width and y2 > 0 and y2 < height:\n",
    "            if maze[y1,x1] == 1 and maze[y2,x2] == 1:\n",
    "                maze[y1, x1] = 0\n",
    "                maze[y2, x2] = 0\n",
    "                carve(maze, x2, y2, height, width)\n",
    "        count = count + 1\n",
    "        direction = (direction + 1) % 4\n",
    "\n",
    "def writeImage(a):\n",
    "    out = PIL.Image.new('RGB', a.shape, (255,255,255))\n",
    "    d = ImageDraw.Draw(out)\n",
    "\n",
    "    (height, width) = a.shape\n",
    "    for x in range(height):\n",
    "        for y in range(width):\n",
    "            if a[y,x] == 0:\n",
    "                d.point([x,y], fill=(255,255,255))\n",
    "            else:\n",
    "                d.point([x,y], fill=(0,0,0))\n",
    "    d.point([1,0], fill=(255,0,0))\n",
    "    d.point([width - 2, height - 1], fill=(255,0,0))\n",
    "    return out\n",
    "\n",
    "def generate(width, height):\n",
    "    if width < 2 or height < 2:\n",
    "        raise \"Maze needs to be at least 2x2\"\n",
    "    maze = np.ones((height,width))\n",
    "    maze[1, 1] = 0\n",
    "    carve(maze, 1,1, height, width)\n",
    "    maze[0,1] = 0 \n",
    "    maze[height - 1, width - 2] = 0\n",
    "    return maze\n",
    "\n",
    "P.imshow(writeImage(generate(32,32)))"
   ]
  },
  {
   "cell_type": "markdown",
   "metadata": {},
   "source": [
    "# Maze Solver"
   ]
  },
  {
   "cell_type": "code",
   "execution_count": 4,
   "metadata": {},
   "outputs": [],
   "source": [
    "import itertools\n",
    "from scipy import misc\n",
    "from scipy.sparse.dok import dok_matrix\n",
    "from scipy.sparse.csgraph import dijkstra\n",
    "\n",
    "# Defines a translation from 2 coordinates to a single number\n",
    "def to_index(img, y, x):\n",
    "    return y * img.shape[1] + x\n",
    "\n",
    "\n",
    "# Defines a reversed translation from index to 2 coordinates\n",
    "def to_coordinates(img, index):\n",
    "    return int(index / img.shape[1]), int(index % img.shape[1])\n",
    "\n",
    "def get_pred(img, preds, source, target, path):\n",
    "    if target == source:\n",
    "        return path\n",
    "    parent = preds[0][target]\n",
    "    return get_pred(img, preds, source, parent, path + [to_coordinates(img, parent)])\n",
    "\n",
    "def solve(img):\n",
    "    # A sparse adjacency matrix.\n",
    "    # Two pixels are adjacent in the graph if both are painted.\n",
    "    adjacency = dok_matrix((img.shape[0] * img.shape[1],\n",
    "                            img.shape[0] * img.shape[1]), dtype=bool)\n",
    "\n",
    "    # The following lines fills the adjacency matrix by\n",
    "    directions = [(1,0), (0,1), (-1, 0), (0,-1)]\n",
    "    for i in range(img.shape[0]):\n",
    "        for j in range(img.shape[1]):\n",
    "            if img[i, j] != 0:\n",
    "                continue\n",
    "\n",
    "            for y_diff, x_diff in directions:\n",
    "                if i + y_diff < img.shape[0] and j + x_diff < img.shape[1] and i + y_diff > 0 and j + x_diff > 0 and img[i + y_diff, j + x_diff] == 0:\n",
    "                    adjacency[to_index(img, i, j),\n",
    "                              to_index(img, i + y_diff, j + x_diff)] = True\n",
    "\n",
    "    # We chose two arbitrary points, which we know are connected\n",
    "    source = to_index(img, 0, 1)\n",
    "    target = to_index(img, img.shape[0] - 1, img.shape[1] - 2)\n",
    "\n",
    "    # Compute the shortest path between the source and all other points in the image\n",
    "    _, preds = dijkstra(adjacency, directed=False, indices=[source],\n",
    "                           unweighted=True, return_predecessors=True)\n",
    "\n",
    "    return get_pred(img, preds, source, target, [])\n"
   ]
  },
  {
   "cell_type": "code",
   "execution_count": 18,
   "metadata": {},
   "outputs": [
    {
     "name": "stdout",
     "output_type": "stream",
     "text": [
      "88.88888888888889\n",
      "([array([[1., 0., 1., ..., 1., 1., 1.],\n",
      "       [1., 0., 1., ..., 0., 0., 0.],\n",
      "       [1., 0., 1., ..., 1., 1., 0.],\n",
      "       ...,\n",
      "       [1., 0., 0., ..., 0., 1., 0.],\n",
      "       [1., 0., 1., ..., 1., 1., 0.],\n",
      "       [1., 0., 0., ..., 0., 0., 0.]])], [array([1., 0.], dtype=float32)])\n"
     ]
    },
    {
     "ename": "StopIteration",
     "evalue": "",
     "output_type": "error",
     "traceback": [
      "\u001b[1;31m---------------------------------------------------------------------------\u001b[0m",
      "\u001b[1;31mStopIteration\u001b[0m                             Traceback (most recent call last)",
      "\u001b[1;32m<ipython-input-18-c7db897a4bc5>\u001b[0m in \u001b[0;36m<module>\u001b[1;34m\u001b[0m\n\u001b[0;32m     20\u001b[0m \u001b[0mprint\u001b[0m\u001b[1;33m(\u001b[0m\u001b[1;36m800\u001b[0m\u001b[1;33m/\u001b[0m\u001b[1;36m9\u001b[0m\u001b[1;33m)\u001b[0m\u001b[1;33m\u001b[0m\u001b[0m\n\u001b[0;32m     21\u001b[0m \u001b[1;32mwhile\u001b[0m \u001b[1;32mTrue\u001b[0m\u001b[1;33m:\u001b[0m\u001b[1;33m\u001b[0m\u001b[0m\n\u001b[1;32m---> 22\u001b[1;33m     \u001b[0mprint\u001b[0m\u001b[1;33m(\u001b[0m\u001b[0mnext\u001b[0m\u001b[1;33m(\u001b[0m\u001b[0mgen\u001b[0m\u001b[1;33m)\u001b[0m\u001b[1;33m)\u001b[0m\u001b[1;33m\u001b[0m\u001b[0m\n\u001b[0m",
      "\u001b[1;32m<ipython-input-18-c7db897a4bc5>\u001b[0m in \u001b[0;36mmazegenerator\u001b[1;34m(height, width, batch_size, batches)\u001b[0m\n\u001b[0;32m     14\u001b[0m         \u001b[1;32melse\u001b[0m\u001b[1;33m:\u001b[0m\u001b[1;33m\u001b[0m\u001b[0m\n\u001b[0;32m     15\u001b[0m             \u001b[1;32myield\u001b[0m\u001b[1;33m(\u001b[0m\u001b[1;33m(\u001b[0m\u001b[1;33m[\u001b[0m\u001b[0mmake_unsolvable\u001b[0m\u001b[1;33m(\u001b[0m\u001b[0mgenerate\u001b[0m\u001b[1;33m(\u001b[0m\u001b[0mheight\u001b[0m\u001b[1;33m,\u001b[0m \u001b[0mwidth\u001b[0m\u001b[1;33m)\u001b[0m\u001b[1;33m)\u001b[0m \u001b[1;32mfor\u001b[0m \u001b[0mx\u001b[0m \u001b[1;32min\u001b[0m \u001b[0mrange\u001b[0m\u001b[1;33m(\u001b[0m\u001b[0mbatch_size\u001b[0m\u001b[1;33m)\u001b[0m\u001b[1;33m]\u001b[0m\u001b[1;33m,\u001b[0m \u001b[1;33m[\u001b[0m\u001b[0mto_target\u001b[0m\u001b[1;33m(\u001b[0m\u001b[1;36m0\u001b[0m\u001b[1;33m)\u001b[0m \u001b[1;32mfor\u001b[0m \u001b[0mx\u001b[0m \u001b[1;32min\u001b[0m \u001b[0mrange\u001b[0m\u001b[1;33m(\u001b[0m\u001b[0mbatch_size\u001b[0m\u001b[1;33m)\u001b[0m\u001b[1;33m]\u001b[0m\u001b[1;33m)\u001b[0m\u001b[1;33m)\u001b[0m\u001b[1;33m\u001b[0m\u001b[0m\n\u001b[1;32m---> 16\u001b[1;33m     \u001b[1;32mraise\u001b[0m \u001b[0mStopIteration\u001b[0m\u001b[1;33m\u001b[0m\u001b[0m\n\u001b[0m\u001b[0;32m     17\u001b[0m \u001b[1;33m\u001b[0m\u001b[0m\n\u001b[0;32m     18\u001b[0m \u001b[0mgen\u001b[0m \u001b[1;33m=\u001b[0m \u001b[0mmazegenerator\u001b[0m\u001b[1;33m(\u001b[0m\u001b[1;36m32\u001b[0m\u001b[1;33m,\u001b[0m\u001b[1;36m32\u001b[0m\u001b[1;33m)\u001b[0m\u001b[1;33m\u001b[0m\u001b[0m\n",
      "\u001b[1;31mStopIteration\u001b[0m: "
     ]
    }
   ],
   "source": [
    "def make_unsolvable(maze):\n",
    "    sol = solve(maze)\n",
    "    (x,y) = sol[random.randint(0, len(sol))]\n",
    "    maze[x,y] = 1\n",
    "    return maze\n",
    "\n",
    "def to_target(n):\n",
    "    return to_categorical(n, num_classes=2, dtype='float32')\n",
    "\n",
    "def mazegenerator(height, width, batch_size=1, batches = 1):\n",
    "    for i in range(batches):\n",
    "        if random.randint(0,1) == 0:\n",
    "            yield(([generate(height, width) for x in range(batch_size)], [to_target(1) for x in range(batch_size)]))\n",
    "        else:\n",
    "            yield(([make_unsolvable(generate(height, width)) for x in range(batch_size)], [to_target(0) for x in range(batch_size)]))\n",
    "    raise StopIteration\n",
    "\n",
    "gen = mazegenerator(32,32)\n",
    "\n",
    "while True:\n",
    "    print(next(gen))"
   ]
  },
  {
   "cell_type": "markdown",
   "metadata": {},
   "source": [
    "# CNN now"
   ]
  },
  {
   "cell_type": "code",
   "execution_count": null,
   "metadata": {},
   "outputs": [],
   "source": [
    "graph = tf.Graph()\n",
    "\n",
    "with graph.as_default():\n",
    "    images = tf.placeholder(tf.float32, shape=(None, 32, 32))\n",
    "    \n",
    "    # Restore the checkpoint\n",
    "    sess = tf.Session(graph=graph)\n",
    "    \n",
    "    model = Sequential()\n",
    "    model.add(Conv2D(32, (3, 3), input_shape=(32,32,1)))\n",
    "    model.add(Activation('relu'))\n",
    "    model.add(MaxPooling2D(pool_size=(2, 2)))\n",
    "    model.add(Conv2D(32, (3, 3)))\n",
    "    model.add(Activation('relu'))\n",
    "    model.add(MaxPooling2D(pool_size=(2, 2)))\n",
    "    model.add(Conv2D(64, (3, 3)))\n",
    "    model.add(Activation('relu'))\n",
    "    model.add(MaxPooling2D(pool_size=(2, 2)))\n",
    "\n",
    "    model.add(Flatten())\n",
    "    model.add(Dense(256))\n",
    "    model.add(Activation('relu'))\n",
    "    model.add(Dropout(0.5))\n",
    "    model.add(Dense(10))\n",
    "    model.add(Activation('softmax'))\n",
    "\n",
    "    model.compile(loss='categorical_crossentropy', optimizer=Adam(), metrics=['accuracy'])\n",
    "    model.fit_generator(solvable, steps_per_epoch=10, epochs=1)\n",
    "    model.fit_generator(unsolvable, steps_per_epoch=10, epochs=1)"
   ]
  }
 ],
 "metadata": {
  "kernelspec": {
   "display_name": "Python 3",
   "language": "python",
   "name": "python3"
  },
  "language_info": {
   "codemirror_mode": {
    "name": "ipython",
    "version": 3
   },
   "file_extension": ".py",
   "mimetype": "text/x-python",
   "name": "python",
   "nbconvert_exporter": "python",
   "pygments_lexer": "ipython3",
   "version": "3.5.4"
  }
 },
 "nbformat": 4,
 "nbformat_minor": 2
}
